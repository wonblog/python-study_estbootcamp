{
 "cells": [
  {
   "cell_type": "code",
   "execution_count": 4,
   "id": "70a7cd85",
   "metadata": {},
   "outputs": [
    {
     "data": {
      "text/html": [
       "<div>\n",
       "<style scoped>\n",
       "    .dataframe tbody tr th:only-of-type {\n",
       "        vertical-align: middle;\n",
       "    }\n",
       "\n",
       "    .dataframe tbody tr th {\n",
       "        vertical-align: top;\n",
       "    }\n",
       "\n",
       "    .dataframe thead th {\n",
       "        text-align: right;\n",
       "    }\n",
       "</style>\n",
       "<table border=\"1\" class=\"dataframe\">\n",
       "  <thead>\n",
       "    <tr style=\"text-align: right;\">\n",
       "      <th></th>\n",
       "      <th>Class label</th>\n",
       "      <th>Alcohol</th>\n",
       "      <th>Malic acid</th>\n",
       "      <th>Ash</th>\n",
       "      <th>Alcalinity of ash</th>\n",
       "      <th>Magnesium</th>\n",
       "      <th>Total phenols</th>\n",
       "      <th>Flavanoids</th>\n",
       "      <th>Nonflavanoid phenols</th>\n",
       "      <th>Proanthocyanins</th>\n",
       "      <th>Color intensity</th>\n",
       "      <th>Hue</th>\n",
       "      <th>OD280/OD315 of diluted wines</th>\n",
       "      <th>Proline</th>\n",
       "    </tr>\n",
       "  </thead>\n",
       "  <tbody>\n",
       "    <tr>\n",
       "      <th>0</th>\n",
       "      <td>1</td>\n",
       "      <td>14.23</td>\n",
       "      <td>1.71</td>\n",
       "      <td>2.43</td>\n",
       "      <td>15.6</td>\n",
       "      <td>127</td>\n",
       "      <td>2.80</td>\n",
       "      <td>3.06</td>\n",
       "      <td>0.28</td>\n",
       "      <td>2.29</td>\n",
       "      <td>5.64</td>\n",
       "      <td>1.04</td>\n",
       "      <td>3.92</td>\n",
       "      <td>1065</td>\n",
       "    </tr>\n",
       "    <tr>\n",
       "      <th>1</th>\n",
       "      <td>1</td>\n",
       "      <td>13.20</td>\n",
       "      <td>1.78</td>\n",
       "      <td>2.14</td>\n",
       "      <td>11.2</td>\n",
       "      <td>100</td>\n",
       "      <td>2.65</td>\n",
       "      <td>2.76</td>\n",
       "      <td>0.26</td>\n",
       "      <td>1.28</td>\n",
       "      <td>4.38</td>\n",
       "      <td>1.05</td>\n",
       "      <td>3.40</td>\n",
       "      <td>1050</td>\n",
       "    </tr>\n",
       "    <tr>\n",
       "      <th>2</th>\n",
       "      <td>1</td>\n",
       "      <td>13.16</td>\n",
       "      <td>2.36</td>\n",
       "      <td>2.67</td>\n",
       "      <td>18.6</td>\n",
       "      <td>101</td>\n",
       "      <td>2.80</td>\n",
       "      <td>3.24</td>\n",
       "      <td>0.30</td>\n",
       "      <td>2.81</td>\n",
       "      <td>5.68</td>\n",
       "      <td>1.03</td>\n",
       "      <td>3.17</td>\n",
       "      <td>1185</td>\n",
       "    </tr>\n",
       "    <tr>\n",
       "      <th>3</th>\n",
       "      <td>1</td>\n",
       "      <td>14.37</td>\n",
       "      <td>1.95</td>\n",
       "      <td>2.50</td>\n",
       "      <td>16.8</td>\n",
       "      <td>113</td>\n",
       "      <td>3.85</td>\n",
       "      <td>3.49</td>\n",
       "      <td>0.24</td>\n",
       "      <td>2.18</td>\n",
       "      <td>7.80</td>\n",
       "      <td>0.86</td>\n",
       "      <td>3.45</td>\n",
       "      <td>1480</td>\n",
       "    </tr>\n",
       "    <tr>\n",
       "      <th>4</th>\n",
       "      <td>1</td>\n",
       "      <td>13.24</td>\n",
       "      <td>2.59</td>\n",
       "      <td>2.87</td>\n",
       "      <td>21.0</td>\n",
       "      <td>118</td>\n",
       "      <td>2.80</td>\n",
       "      <td>2.69</td>\n",
       "      <td>0.39</td>\n",
       "      <td>1.82</td>\n",
       "      <td>4.32</td>\n",
       "      <td>1.04</td>\n",
       "      <td>2.93</td>\n",
       "      <td>735</td>\n",
       "    </tr>\n",
       "  </tbody>\n",
       "</table>\n",
       "</div>"
      ],
      "text/plain": [
       "   Class label  Alcohol  Malic acid   Ash  Alcalinity of ash  Magnesium  \\\n",
       "0            1    14.23        1.71  2.43               15.6        127   \n",
       "1            1    13.20        1.78  2.14               11.2        100   \n",
       "2            1    13.16        2.36  2.67               18.6        101   \n",
       "3            1    14.37        1.95  2.50               16.8        113   \n",
       "4            1    13.24        2.59  2.87               21.0        118   \n",
       "\n",
       "   Total phenols  Flavanoids  Nonflavanoid phenols  Proanthocyanins  \\\n",
       "0           2.80        3.06                  0.28             2.29   \n",
       "1           2.65        2.76                  0.26             1.28   \n",
       "2           2.80        3.24                  0.30             2.81   \n",
       "3           3.85        3.49                  0.24             2.18   \n",
       "4           2.80        2.69                  0.39             1.82   \n",
       "\n",
       "   Color intensity   Hue  OD280/OD315 of diluted wines  Proline  \n",
       "0             5.64  1.04                          3.92     1065  \n",
       "1             4.38  1.05                          3.40     1050  \n",
       "2             5.68  1.03                          3.17     1185  \n",
       "3             7.80  0.86                          3.45     1480  \n",
       "4             4.32  1.04                          2.93      735  "
      ]
     },
     "execution_count": 4,
     "metadata": {},
     "output_type": "execute_result"
    }
   ],
   "source": [
    "import pandas as pd\n",
    "\n",
    "df_wine = pd.read_csv('https://archive.ics.uci.edu/ml/'\n",
    "                      'machine-learning-databases/wine/wine.data',\n",
    "                      header=None)\n",
    "\n",
    "# UCI 머신 러닝 저장소에서 Wine 데이터셋을 다운로드할 수 없을 때\n",
    "# 다음 주석을 해제하고 로컬 경로에서 데이터셋을 적재하세요:\n",
    "\n",
    "# df_wine = pd.read_csv('wine.data', header=None)\n",
    "\n",
    "df_wine.columns = ['Class label', 'Alcohol', 'Malic acid', 'Ash',\n",
    "                   'Alcalinity of ash', 'Magnesium', 'Total phenols',\n",
    "                   'Flavanoids', 'Nonflavanoid phenols', 'Proanthocyanins',\n",
    "                   'Color intensity', 'Hue',\n",
    "                   'OD280/OD315 of diluted wines', 'Proline']\n",
    "\n",
    "df_wine.head()"
   ]
  },
  {
   "cell_type": "code",
   "execution_count": 3,
   "id": "fe47e714",
   "metadata": {},
   "outputs": [],
   "source": [
    "np.set_printoptions(precision=4)"
   ]
  },
  {
   "cell_type": "code",
   "execution_count": 5,
   "id": "b69ba220",
   "metadata": {},
   "outputs": [],
   "source": [
    "from sklearn.model_selection import train_test_split"
   ]
  },
  {
   "cell_type": "code",
   "execution_count": 6,
   "id": "c37cc262",
   "metadata": {},
   "outputs": [],
   "source": [
    "X, y = df_wine.iloc[:, 1:].values, df_wine.iloc[:, 0].values"
   ]
  },
  {
   "cell_type": "code",
   "execution_count": 7,
   "id": "bbc6b4c5",
   "metadata": {},
   "outputs": [],
   "source": [
    "# stratify=y으로 한 경우\n",
    "\n",
    "X_train, X_test, y_train, y_test = \\\n",
    "    train_test_split(X, y, test_size=0.3,\n",
    "                     stratify=y,\n",
    "                     random_state=0)"
   ]
  },
  {
   "cell_type": "code",
   "execution_count": 9,
   "id": "e7bb8548",
   "metadata": {},
   "outputs": [],
   "source": [
    "# 선형 판별 분석의 내부 동작 방식"
   ]
  },
  {
   "attachments": {
    "image.png": {
     "image/png": "[encoded data removed]"
    }
   },
   "cell_type": "markdown",
   "id": "c71df4dd",
   "metadata": {},
   "source": [
    "![image.png](attachment:image.png)"
   ]
  },
  {
   "cell_type": "code",
   "execution_count": 8,
   "id": "14942141",
   "metadata": {},
   "outputs": [],
   "source": [
    "from sklearn.preprocessing import StandardScaler\n",
    "\n",
    "sc = StandardScaler()\n",
    "X_train_std = sc.fit_transform(X_train)\n",
    "X_test_std = sc.transform(X_test)"
   ]
  },
  {
   "cell_type": "code",
   "execution_count": 10,
   "id": "56194dcb",
   "metadata": {},
   "outputs": [
    {
     "data": {
      "text/plain": [
       "np.float64(0.3985078731373084)"
      ]
     },
     "execution_count": 10,
     "metadata": {},
     "output_type": "execute_result"
    }
   ],
   "source": [
    "np.mean(X_train_std[y_train == 1])"
   ]
  },
  {
   "cell_type": "code",
   "execution_count": 11,
   "id": "8be50dcd",
   "metadata": {},
   "outputs": [
    {
     "name": "stdout",
     "output_type": "stream",
     "text": [
      "MV 1: [ 0.9066 -0.3497  0.3201 -0.7189  0.5056  0.8807  0.9589 -0.5516  0.5416\n",
      "  0.2338  0.5897  0.6563  1.2075]\n",
      "\n",
      "MV 2: [-0.8749 -0.2848 -0.3735  0.3157 -0.3848 -0.0433  0.0635 -0.0946  0.0703\n",
      " -0.8286  0.3144  0.3608 -0.7253]\n",
      "\n",
      "MV 3: [ 0.1992  0.866   0.1682  0.4148 -0.0451 -1.0286 -1.2876  0.8287 -0.7795\n",
      "  0.9649 -1.209  -1.3622 -0.4013]\n",
      "\n"
     ]
    }
   ],
   "source": [
    "mean_vecs = []\n",
    "for label in range(1, 4):\n",
    "    mean_vecs.append(np.mean(X_train_std[y_train == label], axis=0))\n",
    "    print('MV %s: %s\\n' % (label, mean_vecs[label - 1]))"
   ]
  },
  {
   "attachments": {
    "image.png": {
     "image/png": "[encoded data removed]"
    }
   },
   "cell_type": "markdown",
   "id": "36e2281c",
   "metadata": {},
   "source": [
    "![image.png](attachment:image.png)"
   ]
  },
  {
   "cell_type": "code",
   "execution_count": 12,
   "id": "007d874c",
   "metadata": {},
   "outputs": [],
   "source": [
    "d = 13 # 특성의 수\n",
    "S_W = np.zeros((d, d))"
   ]
  },
  {
   "cell_type": "code",
   "execution_count": 13,
   "id": "c6ddbfc7",
   "metadata": {},
   "outputs": [],
   "source": [
    "for label, mv in zip(range(1, 4), mean_vecs):\n",
    "    class_scatter = np.zeros((d, d))  # 각 클래스에 대한 산포 행렬\n",
    "    for row in X_train_std[y_train == label]:\n",
    "        row, mv = row.reshape(d, 1), mv.reshape(d, 1)  # 열 벡터를 만듭니다\n",
    "        class_scatter += (row - mv).dot((row - mv).T)\n",
    "    S_W += class_scatter                          # 클래스 산포 행렬을 더합니다"
   ]
  },
  {
   "cell_type": "code",
   "execution_count": 14,
   "id": "da0f0a8b",
   "metadata": {},
   "outputs": [
    {
     "name": "stdout",
     "output_type": "stream",
     "text": [
      "클래스 내의 산포 행렬: 13x13\n"
     ]
    }
   ],
   "source": [
    "print('클래스 내의 산포 행렬: %sx%s' % (S_W.shape[0], S_W.shape[1]))"
   ]
  },
  {
   "cell_type": "code",
   "execution_count": 15,
   "id": "77668b5f",
   "metadata": {},
   "outputs": [],
   "source": [
    "# 클래스가 균일하게 분포되어 있지 않기 때문에 공분산 행렬을 사용하는 것이 더 낫습니다:"
   ]
  },
  {
   "cell_type": "code",
   "execution_count": 16,
   "id": "d5dab843",
   "metadata": {},
   "outputs": [
    {
     "name": "stdout",
     "output_type": "stream",
     "text": [
      "클래스 레이블 분포: [41 50 33]\n"
     ]
    }
   ],
   "source": [
    "\n",
    "print('클래스 레이블 분포: %s'\n",
    "      % np.bincount(y_train)[1:])"
   ]
  },
  {
   "attachments": {
    "image.png": {
     "image/png": "[encoded data removed]"
    }
   },
   "cell_type": "markdown",
   "id": "cb061ab8",
   "metadata": {},
   "source": [
    "![image.png](attachment:image.png)"
   ]
  },
  {
   "cell_type": "code",
   "execution_count": 18,
   "id": "848ad94d",
   "metadata": {},
   "outputs": [
    {
     "data": {
      "text/plain": [
       "array([[ 0.8823,  0.8459,  0.5787,  1.028 ,  0.02  ,  0.7851,  1.3195,\n",
       "         1.2466,  0.6394,  1.5381,  0.02  ,  0.4329,  0.1536,  2.1818,\n",
       "         1.6353,  0.3236,  0.8216,  0.3115,  1.1009,  1.441 ,  0.7244,\n",
       "         0.2507,  1.4167,  0.9673,  0.2507,  2.0847,  1.0159,  0.5422,\n",
       "         0.8337,  1.2952,  0.9552,  1.6353,  0.4572,  0.02  ,  1.2466,\n",
       "         0.9673,  0.6394,  1.1981,  0.6637,  1.4045,  1.2952],\n",
       "       [-0.7046, -0.7302, -0.4736, -0.3967, -0.6019, -0.448 , -0.7473,\n",
       "        -0.1743, -0.5506, -0.371 , -0.2598, -0.4993,  0.0053, -0.6105,\n",
       "         1.0573, -0.5421, -0.4223, -0.3282, -0.5335, -0.5592, -0.4651,\n",
       "         1.3909, -0.5079, -0.6704,  0.202 , -0.5335, -0.3881, -0.4651,\n",
       "        -0.7901, -0.1657, -0.5164, -0.4138,  1.2711, -0.5335, -0.619 ,\n",
       "        -0.6019, -0.5335, -0.5763, -0.5934, -0.6533, -0.2855],\n",
       "       [ 1.1753,  1.1753,  0.9888,  0.765 ,  0.6158, -0.093 , -0.2422,\n",
       "         0.8396, -0.2795,  1.2499,  3.1151,  0.8769,  1.0634, -0.8017,\n",
       "        -0.3914, -0.9136, -0.093 ,  1.1007, -0.4287, -0.3168,  1.1753,\n",
       "        -0.3541,  0.2428,  0.8769,  1.8095,  0.019 ,  1.5484,  0.0936,\n",
       "         0.4293, -0.3168,  0.1309, -0.0184, -0.9882, -1.2866, -0.3914,\n",
       "         0.8023,  0.2801, -0.6525, -0.093 ,  0.3547,  0.0563],\n",
       "       [-0.0907,  0.811 , -0.2409, -1.4432, -0.5415, -0.782 , -0.9022,\n",
       "        -0.6617, -1.0825,  0.0596,  1.5625, -1.1126, -0.3612, -1.7438,\n",
       "        -1.1426, -0.8421, -0.9623, -0.9022, -0.7218, -1.0525, -0.782 ,\n",
       "        -0.6918, -1.3831,  0.0596,  0.3602, -2.5253, -0.1207,  0.2099,\n",
       "        -0.9322, -0.5415, -1.7438, -2.3449, -0.3011, -2.2247, -1.1426,\n",
       "        -0.782 ,  0.2099, -1.1426, -0.2109, -0.9924, -0.3011],\n",
       "       [ 2.3415,  0.136 ,  0.7763,  0.136 , -0.0775,  0.3494, -0.2909,\n",
       "         1.5589,  1.2743,  1.4877,  1.7723, -0.4332,  0.136 , -0.1486,\n",
       "         0.2071, -0.362 ,  0.136 ,  0.2071,  0.634 ,  1.3454,  0.9186,\n",
       "         0.2783,  0.9186,  1.132 ,  1.3454, -0.5755,  0.5628,  0.0648,\n",
       "         0.634 ,  0.4206,  0.8474,  0.2071, -0.6466, -0.5043,  1.9146,\n",
       "        -0.362 ,  1.2032, -0.2197,  0.4917,  0.634 ,  0.2783],\n",
       "       [ 1.0168,  1.0981,  0.0409,  1.5047,  0.2036,  0.1548, -0.203 ,\n",
       "         0.4475,  1.342 ,  0.7728,  0.4963,  0.8541,  0.7728,  0.7728,\n",
       "         1.5047,  0.1222,  0.4638,  1.0981,  0.9029,  1.4234,  0.8541,\n",
       "         0.5126,  1.5372,  1.0168,  0.7728,  1.2607,  1.0168,  0.6102,\n",
       "         1.7486,  1.0168,  2.5293,  1.586 ,  0.2036,  0.6427,  1.0981,\n",
       "         0.2036,  1.033 ,  0.5288,  0.8704,  1.586 ,  0.6915],\n",
       "       [ 0.663 ,  1.1633,  0.457 ,  1.4674,  0.3589,  0.6139,  0.3589,\n",
       "         0.4374,  1.2025,  1.0554,  0.6041,  0.8592,  1.1535,  0.8984,\n",
       "         1.0848,  0.1235,  0.8003,  1.1436,  1.4477,  0.918 ,  0.8298,\n",
       "         0.5551,  1.3006,  1.3104,  0.6139,  1.5949,  0.8886,  0.8984,\n",
       "         1.5753,  1.2319,  1.6439,  1.5458,  0.6041,  1.1829,  1.0848,\n",
       "         0.9082,  0.7022,  0.2608,  1.1044,  1.8303,  0.8396],\n",
       "       [ 1.0887, -0.6442, -0.6442, -1.6344, -0.6442,  0.4286, -0.8918,\n",
       "        -0.4792, -0.2316, -0.3141,  0.8412, -0.2316, -0.5617, -0.6442,\n",
       "        -0.8092, -0.8092, -0.8092, -0.4792, -0.3966, -0.8918, -0.5617,\n",
       "        -0.3966, -0.2316,  0.2635,  0.181 ,  0.5111,  0.016 , -0.8918,\n",
       "        -1.4694, -1.2218, -0.3966, -0.6442, -0.8092, -1.6344, -1.0568,\n",
       "        -1.2218, -1.3869, -0.8918, -1.2218, -0.3966, -0.3966],\n",
       "       [-0.4929,  1.2525, -0.171 ,  0.1002, -0.3404,  0.5577, -0.1201,\n",
       "        -0.6624,  1.1847,  0.5577,  0.473 , -0.3235,  1.9812,  0.5747,\n",
       "         0.9305, -0.4929,  0.0832,  0.0324,  0.7441,  0.6594, -0.3065,\n",
       "         0.0324,  0.5577,  0.1341,  0.3035,  1.9812,  0.2018,  0.3713,\n",
       "         0.6763,  1.2525,  0.3883,  2.2354, -0.2726,  2.1506,  0.778 ,\n",
       "         1.1   ,  1.3711,  0.5747,  0.5238,  0.3713,  1.2525],\n",
       "       [ 0.1315,  0.2586, -0.3769,  0.1442, -0.3557, -0.5295, -0.038 ,\n",
       "        -0.0168,  0.4408,  0.4705, -0.6396, -0.1227,  0.2502,  0.0468,\n",
       "        -0.0803, -0.4829, -0.5464,  0.3857,  1.6145,  0.5468,  0.9366,\n",
       "        -0.3091,  0.7035,  0.64  , -0.3261,  0.1315, -0.2498,  0.0044,\n",
       "         0.7247,  0.2798,  0.8306,  1.0213, -0.343 ,  0.8942,  0.2374,\n",
       "         0.2163,  0.4917, -0.1651,  0.7671,  1.5298,  0.4705],\n",
       "       [ 1.3398,  1.0681,  0.6604, -0.3361,  0.751 ,  1.2492,  0.9775,\n",
       "         0.4792, -0.019 ,  0.5245,  0.7963, -0.1549,  0.3434,  0.5698,\n",
       "         0.3887,  0.2981,  0.7057,  0.5245,  0.751 , -0.0643,  1.4757,\n",
       "        -0.6078,  0.4339,  0.7963,  0.3887,  1.3398,  1.3398,  0.3887,\n",
       "        -0.2908,  1.3398,  0.2528,  1.1134, -0.2002,  0.751 ,  0.6151,\n",
       "         1.2945,  0.1169,  0.3887,  0.6151,  1.2492,  0.5245],\n",
       "       [ 0.5493,  0.1308,  0.3617,  1.3575, -0.1578,  0.3617,  0.2896,\n",
       "         1.3863,  1.0977,  0.0442,  0.8379,  0.8668,  0.7946,  0.3328,\n",
       "         1.1843,  0.2174,  1.9924,  0.3184,  0.6936,  0.9967,  0.3761,\n",
       "         0.5493,  0.3328, -0.0712,  0.4483,  0.1597,  1.1266,  1.2276,\n",
       "         0.3617,  0.7946,  0.9245,  0.5493,  0.5493,  0.4194,  1.5739,\n",
       "         1.0833,  0.5926,  1.4007,  0.3761,  0.2896,  0.1885],\n",
       "       [ 1.4757,  1.6293,  1.0454,  1.0454,  1.0762,  0.7228,  1.614 ,\n",
       "         1.6601,  0.1235,  1.614 ,  0.231 ,  1.3528,  1.322 ,  0.8918,\n",
       "         0.9532,  1.6293,  0.861 ,  1.5833,  1.5525,  0.6613,  1.7062,\n",
       "        -0.2299,  2.1364,  1.153 , -0.0609,  1.2145,  0.4923,  0.5076,\n",
       "         1.6293,  2.3208,  1.3374,  2.4345,  0.861 ,  1.2145,  0.0774,\n",
       "         1.5679,  1.1223,  0.861 ,  2.3362,  2.8433,  0.9379]])"
      ]
     },
     "execution_count": 18,
     "metadata": {},
     "output_type": "execute_result"
    }
   ],
   "source": [
    "X_train_std[y_train == 1].T"
   ]
  },
  {
   "cell_type": "code",
   "execution_count": 19,
   "id": "8022a58f",
   "metadata": {},
   "outputs": [
    {
     "data": {
      "text/plain": [
       "array([[ 0.2886, -0.0464, -0.1252, -0.1924,  0.0101,  0.103 ,  0.0818,\n",
       "         0.0043,  0.0934,  0.0862,  0.0745,  0.0139,  0.1072],\n",
       "       [-0.0464,  0.2434, -0.0555,  0.0386, -0.0536, -0.0332, -0.0395,\n",
       "         0.0065, -0.0308, -0.0884, -0.1039,  0.0271, -0.1192],\n",
       "       [-0.1252, -0.0555,  0.7511,  0.427 ,  0.2947,  0.0103, -0.0109,\n",
       "         0.2612, -0.1337, -0.077 ,  0.0995, -0.0353, -0.0354],\n",
       "       [-0.1924,  0.0386,  0.427 ,  0.6471,  0.2388, -0.1485, -0.127 ,\n",
       "         0.1338, -0.1733, -0.1331,  0.0128, -0.0397, -0.1243],\n",
       "       [ 0.0101, -0.0536,  0.2947,  0.2388,  0.5368,  0.1115,  0.0108,\n",
       "         0.1744, -0.0941,  0.0604,  0.0182,  0.0397, -0.0756],\n",
       "       [ 0.103 , -0.0332,  0.0103, -0.1485,  0.1115,  0.2977,  0.1806,\n",
       "        -0.0056,  0.1279,  0.1742, -0.0389,  0.0261,  0.0817],\n",
       "       [ 0.0818, -0.0395, -0.0109, -0.127 ,  0.0108,  0.1806,  0.1693,\n",
       "        -0.0222,  0.1555,  0.1638,  0.0182, -0.008 ,  0.1106],\n",
       "       [ 0.0043,  0.0065,  0.2612,  0.1338,  0.1744, -0.0056, -0.0222,\n",
       "         0.3749, -0.0879, -0.0696,  0.1053, -0.0687, -0.0859],\n",
       "       [ 0.0934, -0.0308, -0.1337, -0.1733, -0.0941,  0.1279,  0.1555,\n",
       "        -0.0879,  0.5402,  0.151 ,  0.0621, -0.0096,  0.0482],\n",
       "       [ 0.0862, -0.0884, -0.077 , -0.1331,  0.0604,  0.1742,  0.1638,\n",
       "        -0.0696,  0.151 ,  0.2938,  0.0402, -0.0566,  0.2124],\n",
       "       [ 0.0745, -0.1039,  0.0995,  0.0128,  0.0182, -0.0389,  0.0182,\n",
       "         0.1053,  0.0621,  0.0402,  0.2744, -0.0502,  0.1389],\n",
       "       [ 0.0139,  0.0271, -0.0353, -0.0397,  0.0397,  0.0261, -0.008 ,\n",
       "        -0.0687, -0.0096, -0.0566, -0.0502,  0.2344, -0.1101],\n",
       "       [ 0.1072, -0.1192, -0.0354, -0.1243, -0.0756,  0.0817,  0.1106,\n",
       "        -0.0859,  0.0482,  0.2124,  0.1389, -0.1101,  0.467 ]])"
      ]
     },
     "execution_count": 19,
     "metadata": {},
     "output_type": "execute_result"
    }
   ],
   "source": [
    "np.cov(X_train_std[y_train == 1].T)"
   ]
  },
  {
   "cell_type": "code",
   "execution_count": 20,
   "id": "59a017f5",
   "metadata": {},
   "outputs": [
    {
     "data": {
      "text/plain": [
       "(13, 13)"
      ]
     },
     "execution_count": 20,
     "metadata": {},
     "output_type": "execute_result"
    }
   ],
   "source": [
    "np.cov(X_train_std[y_train == 1].T).shape"
   ]
  },
  {
   "cell_type": "code",
   "execution_count": 21,
   "id": "744c15bc",
   "metadata": {},
   "outputs": [
    {
     "name": "stdout",
     "output_type": "stream",
     "text": [
      "스케일 조정된 클래스 내의 산포 행렬: 13x13\n"
     ]
    }
   ],
   "source": [
    "d = 13  # 특성의 수\n",
    "S_W = np.zeros((d, d))\n",
    "for label, mv in zip(range(1, 4), mean_vecs):\n",
    "    class_scatter = np.cov(X_train_std[y_train == label].T)\n",
    "    S_W += class_scatter\n",
    "print('스케일 조정된 클래스 내의 산포 행렬: %sx%s' %\n",
    "      (S_W.shape[0], S_W.shape[1]))"
   ]
  },
  {
   "attachments": {
    "image.png": {
     "image/png": "[encoded data removed]"
    }
   },
   "cell_type": "markdown",
   "id": "8e354e84",
   "metadata": {},
   "source": [
    "![image.png](attachment:image.png)"
   ]
  },
  {
   "cell_type": "code",
   "execution_count": 24,
   "id": "75819907",
   "metadata": {},
   "outputs": [
    {
     "name": "stdout",
     "output_type": "stream",
     "text": [
      "클래스 간의 산포 행렬: 13x13\n"
     ]
    }
   ],
   "source": [
    "mean_overall = np.mean(X_train_std, axis=0)\n",
    "mean_overall = mean_overall.reshape(d, 1)  # 열 벡터로 만들기\n",
    "d = 13  # 특성 개수\n",
    "S_B = np.zeros((d, d))\n",
    "for i, mean_vec in enumerate(mean_vecs):\n",
    "    n = X_train_std[y_train == i + 1, :].shape[0]\n",
    "    mean_vec = mean_vec.reshape(d, 1)  # 열 벡터로 만들기\n",
    "    S_B += n * (mean_vec - mean_overall).dot((mean_vec - mean_overall).T)\n",
    "\n",
    "print('클래스 간의 산포 행렬: %sx%s' % (S_B.shape[0], S_B.shape[1]))"
   ]
  },
  {
   "cell_type": "code",
   "execution_count": 22,
   "id": "87bc6ca2",
   "metadata": {},
   "outputs": [],
   "source": [
    "# LDA의 남은 단계는 PCA와 유사합니다. 공분산 행렬에 대한 고유값 분해를 수행하는 대신 "
   ]
  },
  {
   "attachments": {
    "image.png": {
     "image/png": "[encoded data removed]"
    }
   },
   "cell_type": "markdown",
   "id": "1ba00827",
   "metadata": {},
   "source": [
    "![image.png](attachment:image.png)"
   ]
  },
  {
   "cell_type": "code",
   "execution_count": 25,
   "id": "0ff3eefd",
   "metadata": {},
   "outputs": [],
   "source": [
    "eigen_vals, eigen_vecs = np.linalg.eig(np.linalg.inv(S_W).dot(S_B))"
   ]
  },
  {
   "cell_type": "code",
   "execution_count": 26,
   "id": "ef278044",
   "metadata": {},
   "outputs": [],
   "source": [
    "# 고윳값의 역순으로 고유 벡터를 정렬합니다(판별 벡터의 개수 = 클래스 개수 - 1):"
   ]
  },
  {
   "cell_type": "code",
   "execution_count": 27,
   "id": "71f46930",
   "metadata": {},
   "outputs": [
    {
     "name": "stdout",
     "output_type": "stream",
     "text": [
      "내림차순의 고윳값:\n",
      "\n",
      "349.61780890599397\n",
      "172.7615221897938\n",
      "3.2778759481604224e-14\n",
      "2.842170943040401e-14\n",
      "2.6347620763320892e-14\n",
      "2.6347620763320892e-14\n",
      "1.7169492680170284e-14\n",
      "1.7169492680170284e-14\n",
      "1.674335053365994e-14\n",
      "1.2740060380615559e-14\n",
      "7.458378098449663e-15\n",
      "4.7370485570543226e-15\n",
      "3.6888431873149695e-15\n"
     ]
    }
   ],
   "source": [
    "\n",
    "# (고윳값, 고유벡터) 튜플의 리스트를 만듭니다.\n",
    "eigen_pairs = [(np.abs(eigen_vals[i]), eigen_vecs[:, i])\n",
    "               for i in range(len(eigen_vals))]\n",
    "\n",
    "# (고윳값, 고유벡터) 튜플을 큰 값에서 작은 값 순서대로 정렬합니다.\n",
    "eigen_pairs = sorted(eigen_pairs, key=lambda k: k[0], reverse=True)\n",
    "\n",
    "# 고윳값의 역순으로 올바르게 정렬되었는지 확인합니다.\n",
    "print('내림차순의 고윳값:\\n')\n",
    "for eigen_val in eigen_pairs:\n",
    "    print(eigen_val[0])"
   ]
  },
  {
   "cell_type": "code",
   "execution_count": 29,
   "id": "84c690f1",
   "metadata": {},
   "outputs": [
    {
     "data": {
      "image/png": "[encoded data removed]",
      "text/plain": [
       "<Figure size 640x480 with 1 Axes>"
      ]
     },
     "metadata": {},
     "output_type": "display_data"
    }
   ],
   "source": [
    "import matplotlib.pyplot as plt\n",
    "tot = sum(eigen_vals.real)\n",
    "discr = [(i / tot) for i in sorted(eigen_vals.real, reverse=True)]\n",
    "cum_discr = np.cumsum(discr)\n",
    "\n",
    "plt.bar(range(1, 14), discr, alpha=0.5, align='center',\n",
    "        label='Individual \"discriminability\"')\n",
    "plt.step(range(1, 14), cum_discr, where='mid',\n",
    "         label='Cumulative \"discriminability\"')\n",
    "plt.ylabel('\"Discriminability\" ratio')\n",
    "plt.xlabel('Linear discriminants')\n",
    "plt.ylim([-0.1, 1.1])\n",
    "plt.legend(loc='best')\n",
    "plt.tight_layout()\n",
    "# plt.savefig('images/05_07.png', dpi=300)\n",
    "plt.show()"
   ]
  },
  {
   "cell_type": "markdown",
   "id": "f3b1ff40",
   "metadata": {},
   "source": [
    "<!-- 고윳값의 역순으로 고유 벡터를 정렬합니다(판별 벡터의 개수 = 클래스 개수 - 1): -->\n"
   ]
  },
  {
   "cell_type": "code",
   "execution_count": 30,
   "id": "599b488c",
   "metadata": {},
   "outputs": [],
   "source": [
    "# 변환 행렬 W"
   ]
  },
  {
   "cell_type": "code",
   "execution_count": 32,
   "id": "5e0574cb",
   "metadata": {},
   "outputs": [
    {
     "data": {
      "text/plain": [
       "array([[-0.1481+0.j],\n",
       "       [ 0.0908+0.j],\n",
       "       [-0.0168+0.j],\n",
       "       [ 0.1484+0.j],\n",
       "       [-0.0163+0.j],\n",
       "       [ 0.1913+0.j],\n",
       "       [-0.7338+0.j],\n",
       "       [-0.075 +0.j],\n",
       "       [ 0.0018+0.j],\n",
       "       [ 0.294 +0.j],\n",
       "       [-0.0328+0.j],\n",
       "       [-0.3547+0.j],\n",
       "       [-0.3915+0.j]])"
      ]
     },
     "execution_count": 32,
     "metadata": {},
     "output_type": "execute_result"
    }
   ],
   "source": [
    "eigen_pairs[0][1][:, np.newaxis]"
   ]
  },
  {
   "cell_type": "code",
   "execution_count": 33,
   "id": "02a623a1",
   "metadata": {},
   "outputs": [
    {
     "data": {
      "text/plain": [
       "array([[-0.1481],\n",
       "       [ 0.0908],\n",
       "       [-0.0168],\n",
       "       [ 0.1484],\n",
       "       [-0.0163],\n",
       "       [ 0.1913],\n",
       "       [-0.7338],\n",
       "       [-0.075 ],\n",
       "       [ 0.0018],\n",
       "       [ 0.294 ],\n",
       "       [-0.0328],\n",
       "       [-0.3547],\n",
       "       [-0.3915]])"
      ]
     },
     "execution_count": 33,
     "metadata": {},
     "output_type": "execute_result"
    }
   ],
   "source": [
    "eigen_pairs[0][1][:, np.newaxis].real"
   ]
  },
  {
   "cell_type": "code",
   "execution_count": 31,
   "id": "47777b14",
   "metadata": {},
   "outputs": [
    {
     "name": "stdout",
     "output_type": "stream",
     "text": [
      "행렬 W:\n",
      " [[-0.1481 -0.4092]\n",
      " [ 0.0908 -0.1577]\n",
      " [-0.0168 -0.3537]\n",
      " [ 0.1484  0.3223]\n",
      " [-0.0163 -0.0817]\n",
      " [ 0.1913  0.0842]\n",
      " [-0.7338  0.2823]\n",
      " [-0.075  -0.0102]\n",
      " [ 0.0018  0.0907]\n",
      " [ 0.294  -0.2152]\n",
      " [-0.0328  0.2747]\n",
      " [-0.3547 -0.0124]\n",
      " [-0.3915 -0.5958]]\n"
     ]
    }
   ],
   "source": [
    "w = np.hstack((eigen_pairs[0][1][:, np.newaxis].real,\n",
    "              eigen_pairs[1][1][:, np.newaxis].real))\n",
    "print('행렬 W:\\n', w)"
   ]
  },
  {
   "cell_type": "code",
   "execution_count": null,
   "id": "8b592c4d",
   "metadata": {},
   "outputs": [],
   "source": [
    "# 새로운 특성 공간으로 샘플 투영하기"
   ]
  },
  {
   "cell_type": "code",
   "execution_count": 34,
   "id": "0bb49545",
   "metadata": {},
   "outputs": [],
   "source": [
    "# X'=XW"
   ]
  },
  {
   "cell_type": "code",
   "execution_count": 35,
   "id": "32d7402c",
   "metadata": {},
   "outputs": [
    {
     "data": {
      "image/png": "[encoded data removed]",
      "text/plain": [
       "<Figure size 640x480 with 1 Axes>"
      ]
     },
     "metadata": {},
     "output_type": "display_data"
    }
   ],
   "source": [
    "\n",
    "X_train_lda = X_train_std.dot(w)\n",
    "colors = ['r', 'b', 'g']\n",
    "markers = ['s', 'x', 'o']\n",
    "\n",
    "for l, c, m in zip(np.unique(y_train), colors, markers):\n",
    "    plt.scatter(X_train_lda[y_train == l, 0],\n",
    "                X_train_lda[y_train == l, 1] * (-1),\n",
    "                c=c, label=l, marker=m)\n",
    "\n",
    "plt.xlabel('LD 1')\n",
    "plt.ylabel('LD 2')\n",
    "plt.legend(loc='lower right')\n",
    "plt.tight_layout()\n",
    "# plt.savefig('images/05_08.png', dpi=300)\n",
    "plt.show()"
   ]
  },
  {
   "cell_type": "code",
   "execution_count": 36,
   "id": "3c1ea16a",
   "metadata": {},
   "outputs": [],
   "source": [
    "# 사이킷런의 LDA"
   ]
  },
  {
   "cell_type": "code",
   "execution_count": 37,
   "id": "cdcd3112",
   "metadata": {},
   "outputs": [],
   "source": [
    "\n",
    "from sklearn.discriminant_analysis import LinearDiscriminantAnalysis as LDA\n",
    "\n",
    "lda = LDA(n_components=2)\n",
    "X_train_lda = lda.fit_transform(X_train_std, y_train)"
   ]
  },
  {
   "cell_type": "code",
   "execution_count": 39,
   "id": "1955d28b",
   "metadata": {},
   "outputs": [],
   "source": [
    "from matplotlib.colors import ListedColormap\n",
    "\n",
    "def plot_decision_regions(X, y, classifier, resolution=0.02):\n",
    "\n",
    "    # 마커와 컬러맵을 준비합니다\n",
    "    markers = ('s', 'x', 'o', '^', 'v')\n",
    "    colors = ('red', 'blue', 'lightgreen', 'gray', 'cyan')\n",
    "    cmap = ListedColormap(colors[:len(np.unique(y))])\n",
    "\n",
    "    # 결정 경계를 그립니다\n",
    "    x1_min, x1_max = X[:, 0].min() - 1, X[:, 0].max() + 1\n",
    "    x2_min, x2_max = X[:, 1].min() - 1, X[:, 1].max() + 1\n",
    "    xx1, xx2 = np.meshgrid(np.arange(x1_min, x1_max, resolution),\n",
    "                           np.arange(x2_min, x2_max, resolution))\n",
    "    Z = classifier.predict(np.array([xx1.ravel(), xx2.ravel()]).T)\n",
    "    Z = Z.reshape(xx1.shape)\n",
    "    plt.contourf(xx1, xx2, Z, alpha=0.4, cmap=cmap)\n",
    "    plt.xlim(xx1.min(), xx1.max())\n",
    "    plt.ylim(xx2.min(), xx2.max())\n",
    "\n",
    "    # 클래스별로 샘플을 그립니다\n",
    "    for idx, cl in enumerate(np.unique(y)):\n",
    "        plt.scatter(x=X[y == cl, 0],\n",
    "                    y=X[y == cl, 1],\n",
    "                    alpha=0.6,\n",
    "                    color=cmap(idx),\n",
    "                    edgecolor=None if idx==1 else 'black',\n",
    "                    marker=markers[idx],\n",
    "                    label=cl)"
   ]
  },
  {
   "cell_type": "code",
   "execution_count": 40,
   "id": "830aafdb",
   "metadata": {},
   "outputs": [
    {
     "data": {
      "image/png": "[encoded data removed]",
      "text/plain": [
       "<Figure size 640x480 with 1 Axes>"
      ]
     },
     "metadata": {},
     "output_type": "display_data"
    }
   ],
   "source": [
    "\n",
    "from sklearn.linear_model import LogisticRegression\n",
    "\n",
    "lr = LogisticRegression(random_state=1)\n",
    "lr = lr.fit(X_train_lda, y_train)\n",
    "\n",
    "plot_decision_regions(X_train_lda, y_train, classifier=lr)\n",
    "plt.xlabel('LD 1')\n",
    "plt.ylabel('LD 2')\n",
    "plt.legend(loc='lower left')\n",
    "plt.tight_layout()\n",
    "# plt.savefig('images/05_09.png', dpi=300)\n",
    "plt.show()"
   ]
  },
  {
   "cell_type": "code",
   "execution_count": 41,
   "id": "e23fd3cf",
   "metadata": {},
   "outputs": [
    {
     "data": {
      "image/png": "[encoded data removed]",
      "text/plain": [
       "<Figure size 640x480 with 1 Axes>"
      ]
     },
     "metadata": {},
     "output_type": "display_data"
    }
   ],
   "source": [
    "\n",
    "X_test_lda = lda.transform(X_test_std)\n",
    "\n",
    "plot_decision_regions(X_test_lda, y_test, classifier=lr)\n",
    "plt.xlabel('LD 1')\n",
    "plt.ylabel('LD 2')\n",
    "plt.legend(loc='lower left')\n",
    "plt.tight_layout()\n",
    "# plt.savefig('images/05_10.png', dpi=300)\n",
    "plt.show()"
   ]
  }
 ],
 "metadata": {
  "kernelspec": {
   "display_name": "py310",
   "language": "python",
   "name": "python3"
  },
  "language_info": {
   "codemirror_mode": {
    "name": "ipython",
    "version": 3
   },
   "file_extension": ".py",
   "mimetype": "text/x-python",
   "name": "python",
   "nbconvert_exporter": "python",
   "pygments_lexer": "ipython3",
   "version": "3.10.14"
  }
 },
 "nbformat": 4,
 "nbformat_minor": 5
}
