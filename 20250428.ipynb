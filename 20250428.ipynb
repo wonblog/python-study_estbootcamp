{
 "cells": [
  {
   "cell_type": "code",
   "execution_count": 1,
   "id": "968a4567",
   "metadata": {},
   "outputs": [
    {
     "name": "stdout",
     "output_type": "stream",
     "text": [
      "21\n"
     ]
    }
   ],
   "source": [
    "plus = 0\n",
    "for i in range(1, 4):\n",
    "    for j in range(1,3):\n",
    "        plus += i + j\n",
    "print(plus)"
   ]
  },
  {
   "cell_type": "code",
   "execution_count": 2,
   "id": "d4aa0248",
   "metadata": {},
   "outputs": [
    {
     "data": {
      "text/plain": [
       "['(1+1)', '(1+2)', '(1+3)', '(2+1)', '(2+2)', '(2+3)']"
      ]
     },
     "execution_count": 2,
     "metadata": {},
     "output_type": "execute_result"
    }
   ],
   "source": [
    "[f'({i}+{j})' for i in range(1, 3) for j in range(1, 4)]\n"
   ]
  },
  {
   "cell_type": "code",
   "execution_count": 3,
   "id": "e770496b",
   "metadata": {},
   "outputs": [
    {
     "data": {
      "text/plain": [
       "[2, 3, 4, 3, 4, 5]"
      ]
     },
     "execution_count": 3,
     "metadata": {},
     "output_type": "execute_result"
    }
   ],
   "source": [
    "[i+j for i in range(1,3) for j in range(1,4)]"
   ]
  },
  {
   "cell_type": "code",
   "execution_count": 19,
   "id": "b4f36849",
   "metadata": {},
   "outputs": [],
   "source": [
    "import numpy as np"
   ]
  },
  {
   "cell_type": "code",
   "execution_count": 4,
   "id": "0c52393b",
   "metadata": {},
   "outputs": [
    {
     "data": {
      "text/plain": [
       "21"
      ]
     },
     "execution_count": 4,
     "metadata": {},
     "output_type": "execute_result"
    }
   ],
   "source": [
    "sum([i+j for i in range(1,3) for j in range(1,4)])"
   ]
  },
  {
   "cell_type": "code",
   "execution_count": 6,
   "id": "2ccfef09",
   "metadata": {},
   "outputs": [],
   "source": [
    "import numpy as np\n"
   ]
  },
  {
   "cell_type": "code",
   "execution_count": 7,
   "id": "8e0c2455",
   "metadata": {},
   "outputs": [
    {
     "data": {
      "text/plain": [
       "array([[2, 3, 4],\n",
       "       [3, 4, 5]])"
      ]
     },
     "execution_count": 7,
     "metadata": {},
     "output_type": "execute_result"
    }
   ],
   "source": [
    "i = np.arange(1,3).reshape((2,-1))\n",
    "j = np.arange(1,4).reshape(-1,3)\n",
    "i+j"
   ]
  },
  {
   "cell_type": "code",
   "execution_count": 8,
   "id": "5f6fae98",
   "metadata": {},
   "outputs": [],
   "source": [
    "result=np.array([i+2*j for i in range(1,4) for j in range(1,3)])"
   ]
  },
  {
   "cell_type": "code",
   "execution_count": 10,
   "id": "f76dd898",
   "metadata": {},
   "outputs": [],
   "source": [
    "result=np.cumprod([i+2*j for i in range(1,4) for j in range(1,3)])"
   ]
  },
  {
   "cell_type": "code",
   "execution_count": 11,
   "id": "3b4808db",
   "metadata": {},
   "outputs": [
    {
     "data": {
      "text/plain": [
       "12600"
      ]
     },
     "execution_count": 11,
     "metadata": {},
     "output_type": "execute_result"
    }
   ],
   "source": [
    "result[-1]"
   ]
  },
  {
   "cell_type": "code",
   "execution_count": 12,
   "id": "75dacc2b",
   "metadata": {},
   "outputs": [
    {
     "name": "stdout",
     "output_type": "stream",
     "text": [
      "Eucledean Distance: 5.0\n"
     ]
    }
   ],
   "source": [
    "import numpy as np\n",
    "\n",
    "def euclidean_distance(point1, point2):\n",
    "    return np.linalg.norm(np.array(point1)-np.array(point2))\n",
    "\n",
    "point1 = [1, 2]\n",
    "point2 = [4, 6]\n",
    "distance = euclidean_distance(point1, point2)\n",
    "print(f\"Eucledean Distance: {distance}\")"
   ]
  },
  {
   "cell_type": "code",
   "execution_count": 14,
   "id": "2f4693c4",
   "metadata": {},
   "outputs": [
    {
     "name": "stdout",
     "output_type": "stream",
     "text": [
      "Manhattan_distance(p=3): 7\n"
     ]
    }
   ],
   "source": [
    "def manhattan_distance(point1, point2, p):\n",
    "    return np.sum(np.abs(np.array(point1) - np.array(point2)))\n",
    "\n",
    "point1 = [1,2]\n",
    "point2 = [4,6]\n",
    "distance = manhattan_distance(point1, point2, p=3)\n",
    "print(f\"Manhattan_distance(p=3): {distance}\")"
   ]
  },
  {
   "cell_type": "code",
   "execution_count": 20,
   "id": "c59ebd5f",
   "metadata": {},
   "outputs": [
    {
     "name": "stdout",
     "output_type": "stream",
     "text": [
      "minkowski_distance(p=3): 4.497941445275415\n"
     ]
    }
   ],
   "source": [
    "def minkowski_distance(point1, point2, p):\n",
    "    return np.sum(np.abs(np.array(point1)- np.array(point2))**p)**(1/p)\n",
    "point1 = [1,2]\n",
    "point2 = [4,6]\n",
    "distance = minkowski_distance(point1, point2, p=3)\n",
    "print(f\"minkowski_distance(p=3): {distance}\")"
   ]
  },
  {
   "cell_type": "code",
   "execution_count": 21,
   "id": "a221d7f4",
   "metadata": {},
   "outputs": [
    {
     "name": "stdout",
     "output_type": "stream",
     "text": [
      "(g o f)(2) =  3.3166247903554\n",
      "(f o g)(2) =  9.0\n",
      "(g o g)(2) =  2.0\n"
     ]
    }
   ],
   "source": [
    "def f(x):\n",
    "    return x**3 + 1\n",
    "def g(x):\n",
    "    return np.sqrt(x+2)\n",
    "\n",
    "print(\"(g o f)(2) = \", g(f(2)))\n",
    "print(\"(f o g)(2) = \", f(g(2)))\n",
    "print(\"(g o g)(2) = \", g(g(2)))\n"
   ]
  },
  {
   "cell_type": "code",
   "execution_count": 22,
   "id": "e6ba28e7",
   "metadata": {},
   "outputs": [
    {
     "name": "stdout",
     "output_type": "stream",
     "text": [
      "공분산: 30.5\n",
      "상관계수: 0.6627303526338384\n"
     ]
    }
   ],
   "source": [
    "height = np.array([166,168,170,172,174])\n",
    "weight = np.array([40, 70, 60, 55, 78])\n",
    "\n",
    "cov_matrix = np.cov(weight, height)\n",
    "corr_matrix = np.corrcoef(weight, height)\n",
    "\n",
    "cov_w_h = cov_matrix[0,1]\n",
    "corr_w_h = corr_matrix[0,1]\n",
    "\n",
    "print(\"공분산:\", cov_w_h)\n",
    "print(\"상관계수:\", corr_w_h)"
   ]
  },
  {
   "cell_type": "code",
   "execution_count": 23,
   "id": "4b79cf47",
   "metadata": {},
   "outputs": [
    {
     "name": "stdout",
     "output_type": "stream",
     "text": [
      "공분산: 50.24761904761905\n",
      "상관계수: 0.8879209022406115\n"
     ]
    }
   ],
   "source": [
    "import numpy as np\n",
    "adc = np.array([13,8,10,15,12,15,14,15,17,19,20,21,22,21,25])\n",
    "sls = np.array([94,70,90,100,95,100,85,95,105,105,110,105,104,105,121])\n",
    "cov_matrix = np.cov(adc, sls)\n",
    "corr_matrix = np.corrcoef(adc,sls)\n",
    "cov_a_d = cov_matrix[0,1]\n",
    "corr_a_d = corr_matrix[0,1]\n",
    "\n",
    "print(\"공분산:\", cov_a_d)\n",
    "print(\"상관계수:\", corr_a_d)\n",
    "\n"
   ]
  },
  {
   "cell_type": "code",
   "execution_count": 27,
   "id": "59d2b953",
   "metadata": {},
   "outputs": [],
   "source": [
    "import pandas as pd\n"
   ]
  },
  {
   "cell_type": "code",
   "execution_count": 29,
   "id": "9b6d5ade",
   "metadata": {},
   "outputs": [],
   "source": [
    "df_sales = pd.read_csv(\"C:\\\\Users\\\\user\\\\Downloads\\\\매출과광고상관.csv\", encoding='cp949')"
   ]
  },
  {
   "cell_type": "code",
   "execution_count": 31,
   "id": "1723d363",
   "metadata": {},
   "outputs": [
    {
     "data": {
      "text/plain": [
       "array([[ 13,  94],\n",
       "       [  8,  70],\n",
       "       [ 10,  90],\n",
       "       [ 15, 100],\n",
       "       [ 12,  95],\n",
       "       [ 15, 100],\n",
       "       [ 14,  85],\n",
       "       [ 15,  95],\n",
       "       [ 17, 105],\n",
       "       [ 19, 105],\n",
       "       [ 20, 110],\n",
       "       [ 21, 105],\n",
       "       [ 22, 104],\n",
       "       [ 21, 105],\n",
       "       [ 25, 121]], dtype=int64)"
      ]
     },
     "execution_count": 31,
     "metadata": {},
     "output_type": "execute_result"
    }
   ],
   "source": [
    "df_sales.values"
   ]
  },
  {
   "cell_type": "code",
   "execution_count": 30,
   "id": "41c8949f",
   "metadata": {},
   "outputs": [
    {
     "data": {
      "text/plain": [
       "pandas.core.frame.DataFrame"
      ]
     },
     "execution_count": 30,
     "metadata": {},
     "output_type": "execute_result"
    }
   ],
   "source": [
    "type(df_sales)"
   ]
  },
  {
   "cell_type": "code",
   "execution_count": 32,
   "id": "d5f6ae57",
   "metadata": {},
   "outputs": [
    {
     "data": {
      "text/html": [
       "<div>\n",
       "<style scoped>\n",
       "    .dataframe tbody tr th:only-of-type {\n",
       "        vertical-align: middle;\n",
       "    }\n",
       "\n",
       "    .dataframe tbody tr th {\n",
       "        vertical-align: top;\n",
       "    }\n",
       "\n",
       "    .dataframe thead th {\n",
       "        text-align: right;\n",
       "    }\n",
       "</style>\n",
       "<table border=\"1\" class=\"dataframe\">\n",
       "  <thead>\n",
       "    <tr style=\"text-align: right;\">\n",
       "      <th></th>\n",
       "      <th>광고비</th>\n",
       "      <th>매출액</th>\n",
       "    </tr>\n",
       "  </thead>\n",
       "  <tbody>\n",
       "    <tr>\n",
       "      <th>count</th>\n",
       "      <td>15.000000</td>\n",
       "      <td>15.000000</td>\n",
       "    </tr>\n",
       "    <tr>\n",
       "      <th>mean</th>\n",
       "      <td>16.466667</td>\n",
       "      <td>98.933333</td>\n",
       "    </tr>\n",
       "    <tr>\n",
       "      <th>std</th>\n",
       "      <td>4.793845</td>\n",
       "      <td>11.804761</td>\n",
       "    </tr>\n",
       "    <tr>\n",
       "      <th>min</th>\n",
       "      <td>8.000000</td>\n",
       "      <td>70.000000</td>\n",
       "    </tr>\n",
       "    <tr>\n",
       "      <th>25%</th>\n",
       "      <td>13.500000</td>\n",
       "      <td>94.500000</td>\n",
       "    </tr>\n",
       "    <tr>\n",
       "      <th>50%</th>\n",
       "      <td>15.000000</td>\n",
       "      <td>100.000000</td>\n",
       "    </tr>\n",
       "    <tr>\n",
       "      <th>75%</th>\n",
       "      <td>20.500000</td>\n",
       "      <td>105.000000</td>\n",
       "    </tr>\n",
       "    <tr>\n",
       "      <th>max</th>\n",
       "      <td>25.000000</td>\n",
       "      <td>121.000000</td>\n",
       "    </tr>\n",
       "  </tbody>\n",
       "</table>\n",
       "</div>"
      ],
      "text/plain": [
       "             광고비         매출액\n",
       "count  15.000000   15.000000\n",
       "mean   16.466667   98.933333\n",
       "std     4.793845   11.804761\n",
       "min     8.000000   70.000000\n",
       "25%    13.500000   94.500000\n",
       "50%    15.000000  100.000000\n",
       "75%    20.500000  105.000000\n",
       "max    25.000000  121.000000"
      ]
     },
     "execution_count": 32,
     "metadata": {},
     "output_type": "execute_result"
    }
   ],
   "source": [
    "df_sales.describe()"
   ]
  },
  {
   "cell_type": "code",
   "execution_count": 33,
   "id": "65c30479",
   "metadata": {},
   "outputs": [
    {
     "data": {
      "text/plain": [
       "0     13\n",
       "1      8\n",
       "2     10\n",
       "3     15\n",
       "4     12\n",
       "5     15\n",
       "6     14\n",
       "7     15\n",
       "8     17\n",
       "9     19\n",
       "10    20\n",
       "11    21\n",
       "12    22\n",
       "13    21\n",
       "14    25\n",
       "Name: 광고비, dtype: int64"
      ]
     },
     "execution_count": 33,
     "metadata": {},
     "output_type": "execute_result"
    }
   ],
   "source": [
    "df_sales.광고비"
   ]
  },
  {
   "cell_type": "code",
   "execution_count": 36,
   "id": "e8a8d58e",
   "metadata": {},
   "outputs": [
    {
     "data": {
      "text/plain": [
       "pandas.core.series.Series"
      ]
     },
     "execution_count": 36,
     "metadata": {},
     "output_type": "execute_result"
    }
   ],
   "source": [
    "type(df_sales['광고비'])\n"
   ]
  },
  {
   "cell_type": "code",
   "execution_count": 37,
   "id": "785b49cc",
   "metadata": {},
   "outputs": [
    {
     "data": {
      "text/plain": [
       "<bound method DataFrame.info of     광고비  매출액\n",
       "0    13   94\n",
       "1     8   70\n",
       "2    10   90\n",
       "3    15  100\n",
       "4    12   95\n",
       "5    15  100\n",
       "6    14   85\n",
       "7    15   95\n",
       "8    17  105\n",
       "9    19  105\n",
       "10   20  110\n",
       "11   21  105\n",
       "12   22  104\n",
       "13   21  105\n",
       "14   25  121>"
      ]
     },
     "execution_count": 37,
     "metadata": {},
     "output_type": "execute_result"
    }
   ],
   "source": [
    "df_sales.info"
   ]
  },
  {
   "cell_type": "code",
   "execution_count": 40,
   "id": "9ae8b5f9",
   "metadata": {},
   "outputs": [
    {
     "data": {
      "text/plain": [
       "[0, 1, 2, 3, 4, 5, 6, 7, 8, 9]"
      ]
     },
     "execution_count": 40,
     "metadata": {},
     "output_type": "execute_result"
    }
   ],
   "source": [
    "[i for i in range(10)]"
   ]
  },
  {
   "cell_type": "code",
   "execution_count": 41,
   "id": "4d48b20a",
   "metadata": {},
   "outputs": [
    {
     "data": {
      "text/plain": [
       "[0, 1, 2, 3, 4, 5, 6, 7, 8, 9]"
      ]
     },
     "execution_count": 41,
     "metadata": {},
     "output_type": "execute_result"
    }
   ],
   "source": [
    "[i for i in np.arange(10)]"
   ]
  },
  {
   "cell_type": "code",
   "execution_count": 42,
   "id": "d5c3345c",
   "metadata": {},
   "outputs": [
    {
     "data": {
      "text/plain": [
       "array([0, 1, 2, 3, 4, 5, 6, 7, 8, 9])"
      ]
     },
     "execution_count": 42,
     "metadata": {},
     "output_type": "execute_result"
    }
   ],
   "source": [
    "np.arange(10)"
   ]
  },
  {
   "cell_type": "code",
   "execution_count": 43,
   "id": "4e3fc62c",
   "metadata": {},
   "outputs": [
    {
     "data": {
      "text/plain": [
       "array([0., 0., 0., 0., 0.])"
      ]
     },
     "execution_count": 43,
     "metadata": {},
     "output_type": "execute_result"
    }
   ],
   "source": [
    "np.zeros(5)"
   ]
  },
  {
   "cell_type": "code",
   "execution_count": 45,
   "id": "0f178903",
   "metadata": {},
   "outputs": [
    {
     "data": {
      "text/plain": [
       "array([1., 1., 1.])"
      ]
     },
     "execution_count": 45,
     "metadata": {},
     "output_type": "execute_result"
    }
   ],
   "source": [
    "np.ones(3)"
   ]
  },
  {
   "cell_type": "code",
   "execution_count": 46,
   "id": "075290b2",
   "metadata": {},
   "outputs": [
    {
     "data": {
      "text/plain": [
       "1"
      ]
     },
     "execution_count": 46,
     "metadata": {},
     "output_type": "execute_result"
    }
   ],
   "source": [
    "lil=[[1,2,3],[4,5,6],[7,8,9]]\n",
    "lil[0][0]"
   ]
  },
  {
   "cell_type": "code",
   "execution_count": 47,
   "id": "e9f958d8",
   "metadata": {},
   "outputs": [
    {
     "data": {
      "text/plain": [
       "array([[1, 2, 3],\n",
       "       [4, 5, 6],\n",
       "       [7, 8, 9]])"
      ]
     },
     "execution_count": 47,
     "metadata": {},
     "output_type": "execute_result"
    }
   ],
   "source": [
    "np.array(lil)"
   ]
  },
  {
   "cell_type": "code",
   "execution_count": 48,
   "id": "72c7a170",
   "metadata": {},
   "outputs": [],
   "source": [
    "arrd2=np.array(lil)"
   ]
  },
  {
   "cell_type": "code",
   "execution_count": 49,
   "id": "7d1cc240",
   "metadata": {},
   "outputs": [
    {
     "data": {
      "text/plain": [
       "2"
      ]
     },
     "execution_count": 49,
     "metadata": {},
     "output_type": "execute_result"
    }
   ],
   "source": [
    "arrd2.ndim"
   ]
  }
 ],
 "metadata": {
  "kernelspec": {
   "display_name": "base",
   "language": "python",
   "name": "python3"
  },
  "language_info": {
   "codemirror_mode": {
    "name": "ipython",
    "version": 3
   },
   "file_extension": ".py",
   "mimetype": "text/x-python",
   "name": "python",
   "nbconvert_exporter": "python",
   "pygments_lexer": "ipython3",
   "version": "3.12.7"
  }
 },
 "nbformat": 4,
 "nbformat_minor": 5
}
