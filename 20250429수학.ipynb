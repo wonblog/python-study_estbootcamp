{
 "cells": [
  {
   "cell_type": "code",
   "execution_count": 1,
   "id": "94ec9e68",
   "metadata": {},
   "outputs": [],
   "source": [
    "import numpy as np"
   ]
  },
  {
   "cell_type": "code",
   "execution_count": 2,
   "id": "c9f10dde",
   "metadata": {},
   "outputs": [
    {
     "name": "stdout",
     "output_type": "stream",
     "text": [
      "[0.5488135  0.71518937 0.60276338]\n",
      "[0.4359949  0.02592623 0.54966248]\n",
      "[0.5488135  0.71518937 0.60276338]\n"
     ]
    }
   ],
   "source": [
    "np.random.seed(0)\n",
    "print(np.random.random(3))\n",
    "np.random.seed(2)\n",
    "print(np.random.random(3))\n",
    "np.random.seed(0)\n",
    "print(np.random.random(3))\n"
   ]
  },
  {
   "cell_type": "code",
   "execution_count": 3,
   "id": "062f14c3",
   "metadata": {},
   "outputs": [
    {
     "data": {
      "text/plain": [
       "1"
      ]
     },
     "execution_count": 3,
     "metadata": {},
     "output_type": "execute_result"
    }
   ],
   "source": [
    "np.random.randint(0,3)"
   ]
  },
  {
   "cell_type": "code",
   "execution_count": 4,
   "id": "b6dd1c16",
   "metadata": {},
   "outputs": [
    {
     "data": {
      "text/plain": [
       "array([  1.        ,   2.71828183,   7.3890561 ,  20.08553692,\n",
       "        54.59815003, 148.4131591 ])"
      ]
     },
     "execution_count": 4,
     "metadata": {},
     "output_type": "execute_result"
    }
   ],
   "source": [
    "x=np.array([0,1,2,3,4,5])\n",
    "np.sqrt(x)\n",
    "np.exp(x)"
   ]
  },
  {
   "cell_type": "code",
   "execution_count": 5,
   "id": "a1c235ce",
   "metadata": {},
   "outputs": [
    {
     "data": {
      "text/plain": [
       "7.389051594961001"
      ]
     },
     "execution_count": 5,
     "metadata": {},
     "output_type": "execute_result"
    }
   ],
   "source": [
    "2.718281**2"
   ]
  },
  {
   "cell_type": "code",
   "execution_count": null,
   "id": "af6d03c4",
   "metadata": {},
   "outputs": [
    {
     "data": {
      "text/plain": [
       "4"
      ]
     },
     "execution_count": 7,
     "metadata": {},
     "output_type": "execute_result"
    }
   ],
   "source": [
    "a=np.array([2,-3,4,5,7,0,1,-1])\n",
    "a.argmax()\n",
    "#최댓값의 위치를 알려줌.\n"
   ]
  },
  {
   "cell_type": "code",
   "execution_count": 8,
   "id": "aa0fdc99",
   "metadata": {},
   "outputs": [],
   "source": [
    "A=np.array([0,1,2,3]).reshape(2,2)\n"
   ]
  },
  {
   "cell_type": "code",
   "execution_count": 9,
   "id": "3622e5a9",
   "metadata": {},
   "outputs": [
    {
     "data": {
      "text/plain": [
       "array([[0, 1],\n",
       "       [2, 3]])"
      ]
     },
     "execution_count": 9,
     "metadata": {},
     "output_type": "execute_result"
    }
   ],
   "source": [
    "A"
   ]
  },
  {
   "cell_type": "code",
   "execution_count": 10,
   "id": "af9380a1",
   "metadata": {},
   "outputs": [],
   "source": [
    "B=np.array([3,2,0,1,]).reshape(2,2)\n"
   ]
  },
  {
   "cell_type": "code",
   "execution_count": 11,
   "id": "f2126f23",
   "metadata": {},
   "outputs": [
    {
     "data": {
      "text/plain": [
       "array([[3, 2],\n",
       "       [0, 1]])"
      ]
     },
     "execution_count": 11,
     "metadata": {},
     "output_type": "execute_result"
    }
   ],
   "source": [
    "B"
   ]
  },
  {
   "cell_type": "code",
   "execution_count": 13,
   "id": "aa0a6c0e",
   "metadata": {},
   "outputs": [
    {
     "data": {
      "text/plain": [
       "array([[0, 1],\n",
       "       [6, 7]])"
      ]
     },
     "execution_count": 13,
     "metadata": {},
     "output_type": "execute_result"
    }
   ],
   "source": [
    "A.dot(B)"
   ]
  },
  {
   "cell_type": "code",
   "execution_count": 14,
   "id": "43cc38f4",
   "metadata": {},
   "outputs": [
    {
     "data": {
      "text/plain": [
       "array([[0, 1],\n",
       "       [6, 7]])"
      ]
     },
     "execution_count": 14,
     "metadata": {},
     "output_type": "execute_result"
    }
   ],
   "source": [
    "A@B"
   ]
  },
  {
   "cell_type": "code",
   "execution_count": 15,
   "id": "0c07f1b4",
   "metadata": {},
   "outputs": [
    {
     "data": {
      "text/plain": [
       "array([[3, 0],\n",
       "       [4, 5],\n",
       "       [1, 2]])"
      ]
     },
     "execution_count": 15,
     "metadata": {},
     "output_type": "execute_result"
    }
   ],
   "source": [
    "A=np.array([3,4,1,0,5,2]).reshape(2,3)\n",
    "A.transpose()"
   ]
  },
  {
   "cell_type": "code",
   "execution_count": 16,
   "id": "4c55c21a",
   "metadata": {},
   "outputs": [
    {
     "data": {
      "text/plain": [
       "array([[3, 0],\n",
       "       [4, 5],\n",
       "       [1, 2]])"
      ]
     },
     "execution_count": 16,
     "metadata": {},
     "output_type": "execute_result"
    }
   ],
   "source": [
    "A.T"
   ]
  },
  {
   "cell_type": "code",
   "execution_count": 17,
   "id": "c8fa76a0",
   "metadata": {},
   "outputs": [
    {
     "data": {
      "text/plain": [
       "array([[3, 4, 1],\n",
       "       [0, 5, 2]])"
      ]
     },
     "execution_count": 17,
     "metadata": {},
     "output_type": "execute_result"
    }
   ],
   "source": [
    "A"
   ]
  },
  {
   "cell_type": "code",
   "execution_count": 18,
   "id": "7c5b81bc",
   "metadata": {},
   "outputs": [
    {
     "ename": "LinAlgError",
     "evalue": "Last 2 dimensions of the array must be square",
     "output_type": "error",
     "traceback": [
      "\u001b[1;31m---------------------------------------------------------------------------\u001b[0m",
      "\u001b[1;31mLinAlgError\u001b[0m                               Traceback (most recent call last)",
      "Cell \u001b[1;32mIn[18], line 1\u001b[0m\n\u001b[1;32m----> 1\u001b[0m np\u001b[38;5;241m.\u001b[39mlinalg\u001b[38;5;241m.\u001b[39minv(A)\n",
      "File \u001b[1;32mc:\\ProgramData\\anaconda3\\Lib\\site-packages\\numpy\\linalg\\linalg.py:556\u001b[0m, in \u001b[0;36minv\u001b[1;34m(a)\u001b[0m\n\u001b[0;32m    554\u001b[0m a, wrap \u001b[38;5;241m=\u001b[39m _makearray(a)\n\u001b[0;32m    555\u001b[0m _assert_stacked_2d(a)\n\u001b[1;32m--> 556\u001b[0m _assert_stacked_square(a)\n\u001b[0;32m    557\u001b[0m t, result_t \u001b[38;5;241m=\u001b[39m _commonType(a)\n\u001b[0;32m    559\u001b[0m signature \u001b[38;5;241m=\u001b[39m \u001b[38;5;124m'\u001b[39m\u001b[38;5;124mD->D\u001b[39m\u001b[38;5;124m'\u001b[39m \u001b[38;5;28;01mif\u001b[39;00m isComplexType(t) \u001b[38;5;28;01melse\u001b[39;00m \u001b[38;5;124m'\u001b[39m\u001b[38;5;124md->d\u001b[39m\u001b[38;5;124m'\u001b[39m\n",
      "File \u001b[1;32mc:\\ProgramData\\anaconda3\\Lib\\site-packages\\numpy\\linalg\\linalg.py:213\u001b[0m, in \u001b[0;36m_assert_stacked_square\u001b[1;34m(*arrays)\u001b[0m\n\u001b[0;32m    211\u001b[0m m, n \u001b[38;5;241m=\u001b[39m a\u001b[38;5;241m.\u001b[39mshape[\u001b[38;5;241m-\u001b[39m\u001b[38;5;241m2\u001b[39m:]\n\u001b[0;32m    212\u001b[0m \u001b[38;5;28;01mif\u001b[39;00m m \u001b[38;5;241m!=\u001b[39m n:\n\u001b[1;32m--> 213\u001b[0m     \u001b[38;5;28;01mraise\u001b[39;00m LinAlgError(\u001b[38;5;124m'\u001b[39m\u001b[38;5;124mLast 2 dimensions of the array must be square\u001b[39m\u001b[38;5;124m'\u001b[39m)\n",
      "\u001b[1;31mLinAlgError\u001b[0m: Last 2 dimensions of the array must be square"
     ]
    }
   ],
   "source": [
    "np.linalg.inv(A)"
   ]
  },
  {
   "cell_type": "code",
   "execution_count": 26,
   "id": "73a7086b",
   "metadata": {},
   "outputs": [],
   "source": [
    "c=np.array([[[0,1,2,3],\n",
    "            [4,5,6,7],\n",
    "            [8,9,10,11]\n",
    "            ],\n",
    "           [[5,5,6,6],\n",
    "            [4,5,6,7],\n",
    "            [8,9,10,11]\n",
    "            ]]\n",
    "           )\n"
   ]
  },
  {
   "cell_type": "code",
   "execution_count": 27,
   "id": "0330353c",
   "metadata": {},
   "outputs": [
    {
     "data": {
      "text/plain": [
       "array([[5, 6],\n",
       "       [5, 6]])"
      ]
     },
     "execution_count": 27,
     "metadata": {},
     "output_type": "execute_result"
    }
   ],
   "source": [
    "c[1,0:2,1:3]"
   ]
  },
  {
   "cell_type": "code",
   "execution_count": 30,
   "id": "bafcc41d",
   "metadata": {},
   "outputs": [
    {
     "data": {
      "text/plain": [
       "70"
      ]
     },
     "execution_count": 30,
     "metadata": {},
     "output_type": "execute_result"
    }
   ],
   "source": [
    "a1=np.array([0,10,20,30,40,50])\n",
    "a1[5]=70\n",
    "a1[5]"
   ]
  },
  {
   "cell_type": "code",
   "execution_count": 34,
   "id": "a1c0c162",
   "metadata": {},
   "outputs": [
    {
     "data": {
      "text/plain": [
       "array([[10, 20, 30],\n",
       "       [40, 50, 60],\n",
       "       [70, 80, 90]])"
      ]
     },
     "execution_count": 34,
     "metadata": {},
     "output_type": "execute_result"
    }
   ],
   "source": [
    "a2=np.arange(10,100,10).reshape(3,3)\n",
    "a2"
   ]
  },
  {
   "cell_type": "code",
   "execution_count": 37,
   "id": "24cd421a",
   "metadata": {},
   "outputs": [
    {
     "data": {
      "text/plain": [
       "30"
      ]
     },
     "execution_count": 37,
     "metadata": {},
     "output_type": "execute_result"
    }
   ],
   "source": [
    "a2[0,2]"
   ]
  },
  {
   "cell_type": "code",
   "execution_count": 45,
   "id": "49068533",
   "metadata": {},
   "outputs": [
    {
     "data": {
      "text/plain": [
       "array([[10, 20, 30],\n",
       "       [40, 50, 60],\n",
       "       [45, 55, 65]])"
      ]
     },
     "execution_count": 45,
     "metadata": {},
     "output_type": "execute_result"
    }
   ],
   "source": [
    "a2[2]=np.array([45,55,65])\n",
    "a2"
   ]
  },
  {
   "cell_type": "code",
   "execution_count": 47,
   "id": "4652db7a",
   "metadata": {},
   "outputs": [
    {
     "data": {
      "text/plain": [
       "array([10, 55])"
      ]
     },
     "execution_count": 47,
     "metadata": {},
     "output_type": "execute_result"
    }
   ],
   "source": [
    "a2[[0,2],[0,1]]"
   ]
  }
 ],
 "metadata": {
  "kernelspec": {
   "display_name": "base",
   "language": "python",
   "name": "python3"
  },
  "language_info": {
   "codemirror_mode": {
    "name": "ipython",
    "version": 3
   },
   "file_extension": ".py",
   "mimetype": "text/x-python",
   "name": "python",
   "nbconvert_exporter": "python",
   "pygments_lexer": "ipython3",
   "version": "3.12.7"
  }
 },
 "nbformat": 4,
 "nbformat_minor": 5
}
