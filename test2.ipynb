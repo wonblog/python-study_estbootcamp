{
 "cells": [
  {
   "cell_type": "code",
   "execution_count": null,
   "id": "98bc76f3",
   "metadata": {
    "vscode": {
     "languageId": "plaintext"
    }
   },
   "outputs": [],
   "source": [
    "def gen_func(x):\n",
    "    print('입력값')\n",
    "    yield x\n",
    "    print('입력값 + 1')\n",
    "    x += 1\n",
    "    yield x\n",
    "    print('입력값 + 2')\n",
    "    x += 1\n",
    "    yield x"
   ]
  }
 ],
 "metadata": {
  "language_info": {
   "name": "python"
  }
 },
 "nbformat": 4,
 "nbformat_minor": 5
}
