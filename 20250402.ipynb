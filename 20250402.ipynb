{
 "cells": [
  {
   "cell_type": "code",
   "execution_count": 2,
   "id": "29652186",
   "metadata": {},
   "outputs": [],
   "source": [
    "import sys"
   ]
  },
  {
   "cell_type": "markdown",
   "id": "20765dda",
   "metadata": {},
   "source": []
  },
  {
   "cell_type": "code",
   "execution_count": 3,
   "id": "c4f74bf1",
   "metadata": {},
   "outputs": [
    {
     "name": "stdout",
     "output_type": "stream",
     "text": [
      "8448728\n"
     ]
    }
   ],
   "source": [
    "nums_squared_list = [i**2 for i in range(1000000)]\n",
    "print(sys.getsizeof(nums_squared_list))"
   ]
  },
  {
   "cell_type": "code",
   "execution_count": 4,
   "id": "142ba3fa",
   "metadata": {},
   "outputs": [
    {
     "name": "stdout",
     "output_type": "stream",
     "text": [
      "200\n"
     ]
    }
   ],
   "source": [
    "nums_squared_generator=(i**2 for i in range(1000000))\n",
    "print(sys.getsizeof(nums_squared_generator))"
   ]
  },
  {
   "cell_type": "code",
   "execution_count": 11,
   "id": "8dcfa13a",
   "metadata": {},
   "outputs": [
    {
     "name": "stdout",
     "output_type": "stream",
     "text": [
      "3150\n"
     ]
    }
   ],
   "source": [
    "def mul(*values):\n",
    "    result = 1\n",
    "    for value in values:\n",
    "        result *= value\n",
    "    return result\n",
    "print(mul(5, 7, 9, 10))"
   ]
  },
  {
   "cell_type": "code",
   "execution_count": 17,
   "id": "8e0b1456",
   "metadata": {},
   "outputs": [
    {
     "data": {
      "text/plain": [
       "2218"
      ]
     },
     "execution_count": 17,
     "metadata": {},
     "output_type": "execute_result"
    }
   ],
   "source": [
    "import random\n",
    "random.randint(1, 3000)"
   ]
  }
 ],
 "metadata": {
  "kernelspec": {
   "display_name": "base",
   "language": "python",
   "name": "python3"
  },
  "language_info": {
   "codemirror_mode": {
    "name": "ipython",
    "version": 3
   },
   "file_extension": ".py",
   "mimetype": "text/x-python",
   "name": "python",
   "nbconvert_exporter": "python",
   "pygments_lexer": "ipython3",
   "version": "3.12.7"
  }
 },
 "nbformat": 4,
 "nbformat_minor": 5
}
