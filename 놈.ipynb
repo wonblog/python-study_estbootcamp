{
 "cells": [
  {
   "cell_type": "code",
   "execution_count": 1,
   "id": "08adce16",
   "metadata": {},
   "outputs": [],
   "source": [
    "import numpy as np\n"
   ]
  },
  {
   "cell_type": "code",
   "execution_count": 2,
   "id": "89f35383",
   "metadata": {},
   "outputs": [],
   "source": [
    "a=np.array([3,-4,1])"
   ]
  },
  {
   "cell_type": "code",
   "execution_count": 3,
   "id": "e7aac59b",
   "metadata": {},
   "outputs": [
    {
     "data": {
      "text/plain": [
       "array([ 9, 16,  1])"
      ]
     },
     "execution_count": 3,
     "metadata": {},
     "output_type": "execute_result"
    }
   ],
   "source": [
    "a**2"
   ]
  },
  {
   "cell_type": "code",
   "execution_count": 4,
   "id": "54b09c26",
   "metadata": {},
   "outputs": [
    {
     "data": {
      "text/plain": [
       "5.0990195135927845"
      ]
     },
     "execution_count": 4,
     "metadata": {},
     "output_type": "execute_result"
    }
   ],
   "source": [
    "np.sqrt(np.sum(a**2))"
   ]
  },
  {
   "cell_type": "code",
   "execution_count": 5,
   "id": "1ad381e1",
   "metadata": {},
   "outputs": [
    {
     "data": {
      "text/plain": [
       "5.0990195135927845"
      ]
     },
     "execution_count": 5,
     "metadata": {},
     "output_type": "execute_result"
    }
   ],
   "source": [
    "np.linalg.norm(a)"
   ]
  },
  {
   "cell_type": "code",
   "execution_count": 6,
   "id": "83d3202d",
   "metadata": {},
   "outputs": [],
   "source": [
    "def vec_norms(x):\n",
    "    L1_norm=np.sum(np.abs(x))\n",
    "    L2_norm=np.sqrt(np.sum(x**2))\n",
    "    Lmax_norm=np.max(np.abs(x))\n",
    "    return L1_norm, L2_norm, Lmax_norm\n"
   ]
  },
  {
   "cell_type": "code",
   "execution_count": 7,
   "id": "a64973bb",
   "metadata": {},
   "outputs": [],
   "source": [
    "result=vec_norms(a)"
   ]
  },
  {
   "cell_type": "code",
   "execution_count": 8,
   "id": "76c5b9b4",
   "metadata": {},
   "outputs": [
    {
     "data": {
      "text/plain": [
       "tuple"
      ]
     },
     "execution_count": 8,
     "metadata": {},
     "output_type": "execute_result"
    }
   ],
   "source": [
    "type(result)"
   ]
  },
  {
   "cell_type": "code",
   "execution_count": 9,
   "id": "5518ed06",
   "metadata": {},
   "outputs": [],
   "source": [
    "l1_norm, l2_norm, linf_norm = vec_norms(a)"
   ]
  },
  {
   "cell_type": "code",
   "execution_count": 10,
   "id": "ee0c99c1",
   "metadata": {},
   "outputs": [
    {
     "data": {
      "text/plain": [
       "5.0990195135927845"
      ]
     },
     "execution_count": 10,
     "metadata": {},
     "output_type": "execute_result"
    }
   ],
   "source": [
    "l2_norm"
   ]
  },
  {
   "cell_type": "code",
   "execution_count": 11,
   "id": "16df0d6c",
   "metadata": {},
   "outputs": [
    {
     "data": {
      "text/plain": [
       "array([ 0.58834841, -0.78446454,  0.19611614])"
      ]
     },
     "execution_count": 11,
     "metadata": {},
     "output_type": "execute_result"
    }
   ],
   "source": [
    "a / l2_norm"
   ]
  },
  {
   "cell_type": "code",
   "execution_count": 13,
   "id": "00328a0a",
   "metadata": {},
   "outputs": [],
   "source": [
    "AA=np.array([[2,1],\n",
    "        [6,4]])"
   ]
  },
  {
   "cell_type": "code",
   "execution_count": 15,
   "id": "1f866b19",
   "metadata": {},
   "outputs": [
    {
     "data": {
      "text/plain": [
       "57"
      ]
     },
     "execution_count": 15,
     "metadata": {},
     "output_type": "execute_result"
    }
   ],
   "source": [
    "np.sum(AA**2)"
   ]
  },
  {
   "cell_type": "code",
   "execution_count": 16,
   "id": "19769f07",
   "metadata": {},
   "outputs": [],
   "source": [
    "from numpy import dot"
   ]
  },
  {
   "cell_type": "code",
   "execution_count": 17,
   "id": "eccd68b5",
   "metadata": {},
   "outputs": [],
   "source": [
    "from numpy.linalg import norm"
   ]
  },
  {
   "cell_type": "code",
   "execution_count": 20,
   "id": "4573ed7e",
   "metadata": {},
   "outputs": [
    {
     "name": "stdout",
     "output_type": "stream",
     "text": [
      "0.5773502691896258\n",
      "0.8838834764831843\n",
      "0.8164965809277259\n"
     ]
    }
   ],
   "source": [
    "def cos_sin(A,B):\n",
    "    return dot(A,B)/(norm(A)*norm(B))\n",
    "doc1 = np.array([1,1,1,1,0])\n",
    "doc2 = np.array([1,0,1,0,1])\n",
    "doc3 = np.array([2,1,1,1,1])\n",
    "\n",
    "print(cos_sin(doc1, doc2))\n",
    "print(cos_sin(doc1, doc3))\n",
    "print(cos_sin(doc2, doc3))"
   ]
  }
 ],
 "metadata": {
  "kernelspec": {
   "display_name": "base",
   "language": "python",
   "name": "python3"
  },
  "language_info": {
   "codemirror_mode": {
    "name": "ipython",
    "version": 3
   },
   "file_extension": ".py",
   "mimetype": "text/x-python",
   "name": "python",
   "nbconvert_exporter": "python",
   "pygments_lexer": "ipython3",
   "version": "3.12.7"
  }
 },
 "nbformat": 4,
 "nbformat_minor": 5
}
