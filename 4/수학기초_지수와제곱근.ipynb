{
 "cells": [
  {
   "cell_type": "code",
   "execution_count": null,
   "id": "d5439c1c",
   "metadata": {},
   "outputs": [],
   "source": [
    "import sympy\n"
   ]
  },
  {
   "cell_type": "code",
   "execution_count": 1,
   "id": "26205563",
   "metadata": {},
   "outputs": [],
   "source": [
    "from sympy import Symbol,solve\n"
   ]
  },
  {
   "cell_type": "code",
   "execution_count": 2,
   "id": "12e5528f",
   "metadata": {},
   "outputs": [],
   "source": [
    "x=Symbol('x')"
   ]
  },
  {
   "cell_type": "code",
   "execution_count": 3,
   "id": "da124bc9",
   "metadata": {},
   "outputs": [
    {
     "data": {
      "text/latex": [
       "$\\displaystyle x$"
      ],
      "text/plain": [
       "x"
      ]
     },
     "execution_count": 3,
     "metadata": {},
     "output_type": "execute_result"
    }
   ],
   "source": [
    "x"
   ]
  },
  {
   "cell_type": "code",
   "execution_count": 4,
   "id": "3deb60f7",
   "metadata": {},
   "outputs": [
    {
     "data": {
      "text/plain": [
       "sympy.core.symbol.Symbol"
      ]
     },
     "execution_count": 4,
     "metadata": {},
     "output_type": "execute_result"
    }
   ],
   "source": [
    "type(x)"
   ]
  },
  {
   "cell_type": "code",
   "execution_count": 5,
   "id": "9db294e8",
   "metadata": {},
   "outputs": [],
   "source": [
    "equation=2*x-6\n"
   ]
  },
  {
   "cell_type": "code",
   "execution_count": 6,
   "id": "0df2886b",
   "metadata": {},
   "outputs": [
    {
     "data": {
      "text/plain": [
       "[3]"
      ]
     },
     "execution_count": 6,
     "metadata": {},
     "output_type": "execute_result"
    }
   ],
   "source": [
    "solve(equation)"
   ]
  },
  {
   "cell_type": "code",
   "execution_count": 7,
   "id": "034f95a8",
   "metadata": {},
   "outputs": [],
   "source": [
    "equation1=2*x-10"
   ]
  },
  {
   "cell_type": "code",
   "execution_count": 8,
   "id": "303c9137",
   "metadata": {},
   "outputs": [
    {
     "data": {
      "text/plain": [
       "[5]"
      ]
     },
     "execution_count": 8,
     "metadata": {},
     "output_type": "execute_result"
    }
   ],
   "source": [
    "solve(equation1)"
   ]
  },
  {
   "cell_type": "code",
   "execution_count": 10,
   "id": "fe115aa6",
   "metadata": {},
   "outputs": [],
   "source": [
    "equation2=x-6"
   ]
  },
  {
   "cell_type": "code",
   "execution_count": 11,
   "id": "13adf497",
   "metadata": {},
   "outputs": [
    {
     "data": {
      "text/plain": [
       "[6]"
      ]
     },
     "execution_count": 11,
     "metadata": {},
     "output_type": "execute_result"
    }
   ],
   "source": [
    "solve(equation2)"
   ]
  },
  {
   "cell_type": "code",
   "execution_count": 16,
   "id": "8a007c7f",
   "metadata": {},
   "outputs": [],
   "source": [
    "equation3=x/2-8"
   ]
  },
  {
   "cell_type": "code",
   "execution_count": 17,
   "id": "b17b17e6",
   "metadata": {},
   "outputs": [
    {
     "data": {
      "text/plain": [
       "[16]"
      ]
     },
     "execution_count": 17,
     "metadata": {},
     "output_type": "execute_result"
    }
   ],
   "source": [
    "solve(equation3)"
   ]
  },
  {
   "cell_type": "code",
   "execution_count": 19,
   "id": "d29f1457",
   "metadata": {},
   "outputs": [],
   "source": [
    "equation4=x+x-2*x\n",
    "\n"
   ]
  },
  {
   "cell_type": "code",
   "execution_count": 20,
   "id": "4ca8b700",
   "metadata": {},
   "outputs": [
    {
     "data": {
      "text/plain": [
       "[]"
      ]
     },
     "execution_count": 20,
     "metadata": {},
     "output_type": "execute_result"
    }
   ],
   "source": [
    "solve(equation4)"
   ]
  },
  {
   "cell_type": "code",
   "execution_count": 22,
   "id": "7c391b3f",
   "metadata": {},
   "outputs": [
    {
     "data": {
      "text/latex": [
       "$\\displaystyle -\\infty < x \\wedge x < \\frac{5}{2}$"
      ],
      "text/plain": [
       "(-oo < x) & (x < 5/2)"
      ]
     },
     "execution_count": 22,
     "metadata": {},
     "output_type": "execute_result"
    }
   ],
   "source": [
    "equation5=2*x+1-6<0\n",
    "solve(equation5)"
   ]
  },
  {
   "cell_type": "code",
   "execution_count": 23,
   "id": "84f21a92",
   "metadata": {},
   "outputs": [],
   "source": [
    "y=Symbol('y')"
   ]
  },
  {
   "cell_type": "code",
   "execution_count": 30,
   "id": "df535e1d",
   "metadata": {},
   "outputs": [
    {
     "data": {
      "text/plain": [
       "{x: 1, y: -1}"
      ]
     },
     "execution_count": 30,
     "metadata": {},
     "output_type": "execute_result"
    }
   ],
   "source": [
    "equation6=3*x+y-2\n",
    "equation7=x-2*y-3\n",
    "solve([equation6, equation7])\n",
    "\n"
   ]
  }
 ],
 "metadata": {
  "kernelspec": {
   "display_name": "base",
   "language": "python",
   "name": "python3"
  },
  "language_info": {
   "codemirror_mode": {
    "name": "ipython",
    "version": 3
   },
   "file_extension": ".py",
   "mimetype": "text/x-python",
   "name": "python",
   "nbconvert_exporter": "python",
   "pygments_lexer": "ipython3",
   "version": "3.12.7"
  }
 },
 "nbformat": 4,
 "nbformat_minor": 5
}
